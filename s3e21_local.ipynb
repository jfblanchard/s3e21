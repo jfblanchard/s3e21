{
 "cells": [
  {
   "cell_type": "code",
   "execution_count": 9,
   "outputs": [
    {
     "name": "stdout",
     "output_type": "stream",
     "text": [
      "Collecting SciencePlots\r\n",
      "  Obtaining dependency information for SciencePlots from https://files.pythonhosted.org/packages/80/0c/a3980bf9d0dcca352f5e74ccbac889c5bcf6a12861628bb4f91eeaf50ab9/SciencePlots-2.1.0-py3-none-any.whl.metadata\r\n",
      "  Downloading SciencePlots-2.1.0-py3-none-any.whl.metadata (11 kB)\r\n",
      "Requirement already satisfied: matplotlib in /home/jon/mambaforge/envs/dataspell/lib/python3.8/site-packages (from SciencePlots) (3.7.2)\r\n",
      "Requirement already satisfied: contourpy>=1.0.1 in /home/jon/mambaforge/envs/dataspell/lib/python3.8/site-packages (from matplotlib->SciencePlots) (1.1.0)\r\n",
      "Requirement already satisfied: cycler>=0.10 in /home/jon/mambaforge/envs/dataspell/lib/python3.8/site-packages (from matplotlib->SciencePlots) (0.11.0)\r\n",
      "Requirement already satisfied: fonttools>=4.22.0 in /home/jon/mambaforge/envs/dataspell/lib/python3.8/site-packages (from matplotlib->SciencePlots) (4.42.0)\r\n",
      "Requirement already satisfied: kiwisolver>=1.0.1 in /home/jon/mambaforge/envs/dataspell/lib/python3.8/site-packages (from matplotlib->SciencePlots) (1.4.4)\r\n",
      "Requirement already satisfied: numpy>=1.20 in /home/jon/mambaforge/envs/dataspell/lib/python3.8/site-packages (from matplotlib->SciencePlots) (1.24.4)\r\n",
      "Requirement already satisfied: packaging>=20.0 in /home/jon/mambaforge/envs/dataspell/lib/python3.8/site-packages (from matplotlib->SciencePlots) (23.1)\r\n",
      "Requirement already satisfied: pillow>=6.2.0 in /home/jon/mambaforge/envs/dataspell/lib/python3.8/site-packages (from matplotlib->SciencePlots) (10.0.0)\r\n",
      "Requirement already satisfied: pyparsing<3.1,>=2.3.1 in /home/jon/mambaforge/envs/dataspell/lib/python3.8/site-packages (from matplotlib->SciencePlots) (3.0.9)\r\n",
      "Requirement already satisfied: python-dateutil>=2.7 in /home/jon/mambaforge/envs/dataspell/lib/python3.8/site-packages (from matplotlib->SciencePlots) (2.8.2)\r\n",
      "Requirement already satisfied: importlib-resources>=3.2.0 in /home/jon/mambaforge/envs/dataspell/lib/python3.8/site-packages (from matplotlib->SciencePlots) (6.0.1)\r\n",
      "Requirement already satisfied: zipp>=3.1.0 in /home/jon/mambaforge/envs/dataspell/lib/python3.8/site-packages (from importlib-resources>=3.2.0->matplotlib->SciencePlots) (3.16.2)\r\n",
      "Requirement already satisfied: six>=1.5 in /home/jon/mambaforge/envs/dataspell/lib/python3.8/site-packages (from python-dateutil>=2.7->matplotlib->SciencePlots) (1.16.0)\r\n",
      "Downloading SciencePlots-2.1.0-py3-none-any.whl (16 kB)\r\n",
      "Installing collected packages: SciencePlots\r\n",
      "Successfully installed SciencePlots-2.1.0\r\n"
     ]
    }
   ],
   "source": [
    "!pip install SciencePlots"
   ],
   "metadata": {
    "collapsed": false,
    "ExecuteTime": {
     "end_time": "2023-08-29T17:52:22.218761572Z",
     "start_time": "2023-08-29T17:52:20.876475072Z"
    }
   },
   "id": "d372e6960f759049"
  },
  {
   "cell_type": "code",
   "execution_count": 10,
   "outputs": [],
   "source": [
    "import numpy as np\n",
    "import pandas as pd\n",
    "import matplotlib.pyplot as plt\n",
    "import scienceplots\n",
    "plt.style.use(['science','no-latex'])"
   ],
   "metadata": {
    "collapsed": false,
    "ExecuteTime": {
     "end_time": "2023-08-29T18:26:42.878533932Z",
     "start_time": "2023-08-29T18:26:42.826789845Z"
    }
   },
   "id": "initial_id"
  },
  {
   "cell_type": "code",
   "execution_count": 7,
   "outputs": [],
   "source": [
    "ss = pd.read_csv('sample_submission.csv')"
   ],
   "metadata": {
    "collapsed": false,
    "ExecuteTime": {
     "end_time": "2023-08-29T17:49:15.544422464Z",
     "start_time": "2023-08-29T17:49:15.504495007Z"
    }
   },
   "id": "22ffcc564b3b8c15"
  },
  {
   "cell_type": "code",
   "execution_count": 11,
   "outputs": [
    {
     "data": {
      "text/plain": "(3500, 37)"
     },
     "execution_count": 11,
     "metadata": {},
     "output_type": "execute_result"
    }
   ],
   "source": [
    "ss.shape"
   ],
   "metadata": {
    "collapsed": false,
    "ExecuteTime": {
     "end_time": "2023-08-29T18:27:11.767751092Z",
     "start_time": "2023-08-29T18:27:11.725424194Z"
    }
   },
   "id": "db91ccca5894c44"
  },
  {
   "cell_type": "code",
   "execution_count": 8,
   "outputs": [
    {
     "data": {
      "text/plain": "   id  target    O2_1   O2_2   O2_3   O2_4   O2_5   O2_6  O2_7  NH4_1  ...  \\\n0   0    8.59   7.500   9.00  9.545  9.265  8.110   8.43  7.15  0.180  ...   \n1   1    9.10  13.533  40.90  8.770  9.265  6.015  10.07  7.15  1.107  ...   \n2   2    8.21   3.710   5.42  8.770  9.265  4.550  10.07  7.15  0.020  ...   \n3   3    8.39   8.700   8.10  9.500  9.200  5.200   8.67  6.67  0.280  ...   \n4   4    8.07   8.050   8.65  7.960  9.265  3.290  10.07  7.15  0.360  ...   \n\n   NO3_5  NO3_6  NO3_7  BOD5_1  BOD5_2  BOD5_3  BOD5_4  BOD5_5  BOD5_6  BOD5_7  \n0   4.95  1.730  1.800   4.800    3.15  10.665  10.465  16.645    5.75   10.37  \n1  20.05  9.530  7.695   4.550    6.95   2.040   5.200   5.725    2.95    2.23  \n2   4.58  3.025  3.960   4.935    4.95   4.725   6.075   6.750    3.50    3.17  \n3   8.45  2.070  1.730   6.300    4.70   3.500   6.200   8.670    2.90    7.37  \n4   2.02  1.730  0.760   4.800    4.97   3.950   2.800   8.400    3.50    3.90  \n\n[5 rows x 37 columns]",
      "text/html": "<div>\n<style scoped>\n    .dataframe tbody tr th:only-of-type {\n        vertical-align: middle;\n    }\n\n    .dataframe tbody tr th {\n        vertical-align: top;\n    }\n\n    .dataframe thead th {\n        text-align: right;\n    }\n</style>\n<table border=\"1\" class=\"dataframe\">\n  <thead>\n    <tr style=\"text-align: right;\">\n      <th></th>\n      <th>id</th>\n      <th>target</th>\n      <th>O2_1</th>\n      <th>O2_2</th>\n      <th>O2_3</th>\n      <th>O2_4</th>\n      <th>O2_5</th>\n      <th>O2_6</th>\n      <th>O2_7</th>\n      <th>NH4_1</th>\n      <th>...</th>\n      <th>NO3_5</th>\n      <th>NO3_6</th>\n      <th>NO3_7</th>\n      <th>BOD5_1</th>\n      <th>BOD5_2</th>\n      <th>BOD5_3</th>\n      <th>BOD5_4</th>\n      <th>BOD5_5</th>\n      <th>BOD5_6</th>\n      <th>BOD5_7</th>\n    </tr>\n  </thead>\n  <tbody>\n    <tr>\n      <th>0</th>\n      <td>0</td>\n      <td>8.59</td>\n      <td>7.500</td>\n      <td>9.00</td>\n      <td>9.545</td>\n      <td>9.265</td>\n      <td>8.110</td>\n      <td>8.43</td>\n      <td>7.15</td>\n      <td>0.180</td>\n      <td>...</td>\n      <td>4.95</td>\n      <td>1.730</td>\n      <td>1.800</td>\n      <td>4.800</td>\n      <td>3.15</td>\n      <td>10.665</td>\n      <td>10.465</td>\n      <td>16.645</td>\n      <td>5.75</td>\n      <td>10.37</td>\n    </tr>\n    <tr>\n      <th>1</th>\n      <td>1</td>\n      <td>9.10</td>\n      <td>13.533</td>\n      <td>40.90</td>\n      <td>8.770</td>\n      <td>9.265</td>\n      <td>6.015</td>\n      <td>10.07</td>\n      <td>7.15</td>\n      <td>1.107</td>\n      <td>...</td>\n      <td>20.05</td>\n      <td>9.530</td>\n      <td>7.695</td>\n      <td>4.550</td>\n      <td>6.95</td>\n      <td>2.040</td>\n      <td>5.200</td>\n      <td>5.725</td>\n      <td>2.95</td>\n      <td>2.23</td>\n    </tr>\n    <tr>\n      <th>2</th>\n      <td>2</td>\n      <td>8.21</td>\n      <td>3.710</td>\n      <td>5.42</td>\n      <td>8.770</td>\n      <td>9.265</td>\n      <td>4.550</td>\n      <td>10.07</td>\n      <td>7.15</td>\n      <td>0.020</td>\n      <td>...</td>\n      <td>4.58</td>\n      <td>3.025</td>\n      <td>3.960</td>\n      <td>4.935</td>\n      <td>4.95</td>\n      <td>4.725</td>\n      <td>6.075</td>\n      <td>6.750</td>\n      <td>3.50</td>\n      <td>3.17</td>\n    </tr>\n    <tr>\n      <th>3</th>\n      <td>3</td>\n      <td>8.39</td>\n      <td>8.700</td>\n      <td>8.10</td>\n      <td>9.500</td>\n      <td>9.200</td>\n      <td>5.200</td>\n      <td>8.67</td>\n      <td>6.67</td>\n      <td>0.280</td>\n      <td>...</td>\n      <td>8.45</td>\n      <td>2.070</td>\n      <td>1.730</td>\n      <td>6.300</td>\n      <td>4.70</td>\n      <td>3.500</td>\n      <td>6.200</td>\n      <td>8.670</td>\n      <td>2.90</td>\n      <td>7.37</td>\n    </tr>\n    <tr>\n      <th>4</th>\n      <td>4</td>\n      <td>8.07</td>\n      <td>8.050</td>\n      <td>8.65</td>\n      <td>7.960</td>\n      <td>9.265</td>\n      <td>3.290</td>\n      <td>10.07</td>\n      <td>7.15</td>\n      <td>0.360</td>\n      <td>...</td>\n      <td>2.02</td>\n      <td>1.730</td>\n      <td>0.760</td>\n      <td>4.800</td>\n      <td>4.97</td>\n      <td>3.950</td>\n      <td>2.800</td>\n      <td>8.400</td>\n      <td>3.50</td>\n      <td>3.90</td>\n    </tr>\n  </tbody>\n</table>\n<p>5 rows × 37 columns</p>\n</div>"
     },
     "execution_count": 8,
     "metadata": {},
     "output_type": "execute_result"
    }
   ],
   "source": [
    "ss.head()"
   ],
   "metadata": {
    "collapsed": false,
    "ExecuteTime": {
     "end_time": "2023-08-29T17:49:17.973143415Z",
     "start_time": "2023-08-29T17:49:17.934462302Z"
    }
   },
   "id": "5f2aa18e1dc12266"
  },
  {
   "cell_type": "markdown",
   "source": [
    "## Separate columns into types"
   ],
   "metadata": {
    "collapsed": false
   },
   "id": "d4d193c984bb092d"
  },
  {
   "cell_type": "code",
   "execution_count": null,
   "outputs": [],
   "source": [
    "O2_cols = [col for col in ss.columns if 'O2' in col and 'N' not in col]\n",
    "NH4_cols = [col for col in ss.columns if 'NH4' in col]\n",
    "NO2_cols = [col for col in ss.columns if 'NO2' in col]\n",
    "NO3_cols = [col for col in ss.columns if 'NO3' in col]\n",
    "BOD5_cols = [col for col in ss.columns if 'BOD5' in col]"
   ],
   "metadata": {
    "collapsed": false
   },
   "id": "6d9ffd56e66c821b"
  },
  {
   "cell_type": "markdown",
   "source": [
    "## Correlation with Target"
   ],
   "metadata": {
    "collapsed": false
   },
   "id": "ed23a0a24b71b88e"
  },
  {
   "cell_type": "code",
   "execution_count": 13,
   "outputs": [
    {
     "data": {
      "text/plain": "<Figure size 1000x400 with 1 Axes>",
      "image/png": "[encoded data removed]"
     },
     "metadata": {},
     "output_type": "display_data"
    }
   ],
   "source": [
    "plt.figure(figsize=(10,4))\n",
    "ss.corrwith(ss.target).plot(kind='bar')\n",
    "plt.title('Correlation with Target');"
   ],
   "metadata": {
    "collapsed": false,
    "ExecuteTime": {
     "end_time": "2023-08-29T18:28:47.859813643Z",
     "start_time": "2023-08-29T18:28:47.527685084Z"
    }
   },
   "id": "7566fffccd3f6594"
  },
  {
   "cell_type": "code",
   "execution_count": null,
   "outputs": [],
   "source": [],
   "metadata": {
    "collapsed": false
   },
   "id": "42c2d99b4673dd9b"
  }
 ],
 "metadata": {
  "kernelspec": {
   "display_name": "Python 3",
   "language": "python",
   "name": "python3"
  },
  "language_info": {
   "codemirror_mode": {
    "name": "ipython",
    "version": 2
   },
   "file_extension": ".py",
   "mimetype": "text/x-python",
   "name": "python",
   "nbconvert_exporter": "python",
   "pygments_lexer": "ipython2",
   "version": "2.7.6"
  }
 },
 "nbformat": 4,
 "nbformat_minor": 5
}
